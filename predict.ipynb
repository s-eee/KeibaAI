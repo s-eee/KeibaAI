{
  "nbformat": 4,
  "nbformat_minor": 0,
  "metadata": {
    "colab": {
      "name": "predict.ipynb",
      "provenance": [],
      "collapsed_sections": [],
      "mount_file_id": "188T_H00ptc92FNrjk5v94qeRqWLax-vg",
      "authorship_tag": "ABX9TyPfdfQEBTfJIWY8H9EVuJoJ",
      "include_colab_link": true
    },
    "kernelspec": {
      "name": "python3",
      "display_name": "Python 3"
    },
    "language_info": {
      "name": "python"
    }
  },
  "cells": [
    {
      "cell_type": "markdown",
      "metadata": {
        "id": "view-in-github",
        "colab_type": "text"
      },
      "source": [
        "<a href=\"https://colab.research.google.com/github/s-eee/KeibaAI/blob/master/predict.ipynb\" target=\"_parent\"><img src=\"https://colab.research.google.com/assets/colab-badge.svg\" alt=\"Open In Colab\"/></a>"
      ]
    },
    {
      "cell_type": "code",
      "source": [
        "from tensorflow import keras\n",
        "import sys\n",
        "\n",
        "# スクレイピングコード非公開のため\n",
        "sys.path.append(\"/content/drive/MyDrive/競馬(公開)/プログラム\")\n",
        "import scraping as scr"
      ],
      "metadata": {
        "id": "i2C-PlQ4dXf-"
      },
      "execution_count": null,
      "outputs": []
    },
    {
      "cell_type": "code",
      "source": [
        "# 元データと同様に標準化\n",
        "def z_score(X):\n",
        "    mean = 34.404076639868435\n",
        "    std = 164.14767907079175\n",
        "    X -= mean\n",
        "    X /= std\n",
        "    return X"
      ],
      "metadata": {
        "id": "58aU8iPudXf-"
      },
      "execution_count": null,
      "outputs": []
    },
    {
      "cell_type": "code",
      "source": [
        "# 1レースを予想\n",
        "def predict(model_pass, url, num, skip_num=None):\n",
        "    model = keras.models.load_model(model_pass, compile=False)\n",
        "    # データをスクレイピング\n",
        "    data = scr.scrape(url, num=num, skip_num=skip_num)\n",
        "    # 整形\n",
        "    X = scr.data_formating(data)\n",
        "    # 標準化\n",
        "    X = z_score(X)\n",
        "    Y = {}\n",
        "    keys = []\n",
        "    values = []\n",
        "\n",
        "    print(f\"第{data[0][0]}レース\")\n",
        "    # 10頭を予想\n",
        "    for i in range(10):\n",
        "        x = X[i]\n",
        "        x = x.reshape(1, 43)\n",
        "        y = model.predict(x)\n",
        "        keys.append(str(i+1) + data[i][12])\n",
        "        values.append(y)\n",
        "        print(f\"馬番{i + 1}({data[i][12]}) : {y}\")\n",
        "    \n",
        "    # 降順に並べ替えてプリント\n",
        "    Y.update(zip(keys, values))\n",
        "    Y = sorted(Y.items(), key=lambda x:x[1], reverse=True)\n",
        "    print(\"-\"*10 +\"昇順\" + \"-\"*10)\n",
        "    for key, value in Y:\n",
        "        print(key,value)\n",
        "\n",
        "    return Y"
      ],
      "metadata": {
        "id": "ZL4rki2kdXf_"
      },
      "execution_count": null,
      "outputs": []
    },
    {
      "cell_type": "code",
      "source": [
        "import re\n",
        "\n",
        "# 1日のレース予想と結果を検証\n",
        "def verification(url, model_pass, skip_num=None,skip_num2=None):\n",
        "    # 複勝当選回数\n",
        "    score = 0\n",
        "    # 複勝\n",
        "    first_score = 0\n",
        "    second_score = 0\n",
        "    third_score = 0\n",
        "    # ワイド\n",
        "    wide = 0\n",
        "    # 三連複\n",
        "    sanren = 0\n",
        "    try:\n",
        "        for race_num in range(12):\n",
        "          # 引数skip_numのレースをスキップ\n",
        "            if race_num == skip_num:\n",
        "                continue\n",
        "            if race_num == skip_num2:\n",
        "                continue\n",
        "            # 予想\n",
        "            Y = predict(model_pass, url, race_num)\n",
        "            # 結果をスクレイピング\n",
        "            T = scr.get_answer(url, race_num)\n",
        "            # カウント\n",
        "            c = 0\n",
        "            # 予想上位３頭が３着以内に入っている回数をカウント\n",
        "            for i in range(3):\n",
        "                y = re.sub(r\"\\D\", \"\", Y[i][0])\n",
        "                if int(y) == int(T[0]) or int(y) == int(T[1]) or int(y) == int(T[2]):\n",
        "                    score += 1\n",
        "                    c += 1\n",
        "                    if i == 0:\n",
        "                        first_score += 1\n",
        "                    if i == 1:\n",
        "                        second_score += 1\n",
        "                    if i == 2:\n",
        "                        third_score += 1\n",
        "            # 予想上位３頭の中で２頭以上当選していたらワイド＋１\n",
        "            if c >= 2:\n",
        "                wide += 1\n",
        "                print(\"ワイド的中\")\n",
        "            # 予想上位３頭の中で３頭当選していたら三連複＋１\n",
        "            if c == 3:\n",
        "                sanren += 1\n",
        "                print(\"三連的中\")\n",
        "            print(f\"複勝当選数（予想1番目）　：　{first_score}\")\n",
        "            print(f\"複勝当選数（予想2番目）　：　{second_score}\")\n",
        "            print(f\"複勝当選数（予想3番目）　：　{third_score}\")\n",
        "            print(f\"複勝当選馬数(合計)　：　{score}\")\n",
        "            print(f\"ワイド　当選回数　：　{wide}\")\n",
        "            print(f\"3連複 当選回数　：　{sanren}\")\n",
        "\n",
        "    except IndexError:\n",
        "      # １２レース未満 or まだレースがスタートしていなければIndexError\n",
        "        print(\"indexError\")\n",
        "        return Y,T\n",
        "    else:\n",
        "        return Y,T\n"
      ],
      "metadata": {
        "id": "pNoYKo4GdXf_"
      },
      "execution_count": null,
      "outputs": []
    },
    {
      "cell_type": "code",
      "source": [
        "# 新レース検証\n",
        "model_list = [\"\"]\n",
        "url = \"\"\n",
        "\n",
        "for model in model_list:\n",
        "    print(model)\n",
        "    Y,T = verification(url, model)\n"
      ],
      "metadata": {
        "id": "bz_NWKQSdXf_"
      },
      "execution_count": null,
      "outputs": []
    },
    {
      "cell_type": "code",
      "source": [
        "# 新モデル検証\n",
        "url_list = [\"\"]\n",
        "model_pass = \"\"\n",
        "\n",
        "for url in url_list:\n",
        "    print(url)\n",
        "    Y,T = verification(url, model_pass)"
      ],
      "metadata": {
        "id": "Ya3YbjU6dXgA"
      },
      "execution_count": null,
      "outputs": []
    },
    {
      "cell_type": "code",
      "source": [
        "# 1レース予想\n",
        "model_pass = \"\"\n",
        "url = \"\"\n",
        "\n",
        "\n",
        "Y = predict(model_pass, url, )"
      ],
      "metadata": {
        "id": "KhgTxrH9dXgA"
      },
      "execution_count": null,
      "outputs": []
    }
  ]
}